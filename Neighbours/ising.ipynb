{
 "cells": [
  {
   "cell_type": "code",
   "execution_count": null,
   "id": "a5168f60-1ded-4af8-ba2e-b69df53ef2cd",
   "metadata": {},
   "outputs": [],
   "source": [
    "import matplotlib.pyplot as pp\n",
    "import numpy as np\n",
    "import scipy as sp\n",
    "from scipy import sparse\n",
    "import time\n",
    "%matplotlib ipympl"
   ]
  },
  {
   "cell_type": "markdown",
   "id": "2e584ab0-1746-4045-b97a-05d15791b442",
   "metadata": {
    "tags": []
   },
   "source": [
    "# Metropolis Simulation of the 2D Ising Model"
   ]
  },
  {
   "cell_type": "code",
   "execution_count": null,
   "id": "7dc4a6b9-fb35-4948-92a2-5e1b5476e5cb",
   "metadata": {},
   "outputs": [],
   "source": [
    "def gen_metropolis(metropolis_step):\n",
    "    def metropolis_iterate(x0, num_steps, *args, **kwargs):\n",
    "        '''Iterate metropolis algorithm for num_steps using iniital position x_0'''\n",
    "\n",
    "        for n in range(num_steps):\n",
    "            if n == 0:\n",
    "                x = x0\n",
    "            else:\n",
    "                x = metropolis_step(x, *args, **kwargs)\n",
    "            yield x\n",
    "            \n",
    "    return metropolis_iterate\n",
    "\n",
    "def gen_prob(beta=1):\n",
    "    def prob(dE):\n",
    "        return np.where(dE < 0, 1, np.exp(-beta * dE))\n",
    "    return prob"
   ]
  },
  {
   "cell_type": "markdown",
   "id": "6a109cc2-5924-4f15-ad7f-7b38a61c3ab0",
   "metadata": {
    "jp-MarkdownHeadingCollapsed": true,
    "tags": []
   },
   "source": [
    "## Full interaction energy for random site changes\n",
    "\n",
    "In this scheme, we generate a metropolis step by choosing a fraction of lattice sites to simultaneaously reverse the spin on. \n",
    "\n",
    "The metropolis criteria is then applied on the full interaction energy calculation of the entire grid."
   ]
  },
  {
   "cell_type": "markdown",
   "id": "37a5dac4-3d6a-49cb-9bc7-dc3b3ec69ff3",
   "metadata": {
    "tags": []
   },
   "source": [
    "### The functions"
   ]
  },
  {
   "cell_type": "code",
   "execution_count": null,
   "id": "98a85783-d341-41de-bba6-777cf112091b",
   "metadata": {},
   "outputs": [],
   "source": [
    "X, Y = np.mgrid[-5:6, -5:6]\n",
    "\n",
    "conv = np.exp(-(X**2 + Y**2) / 2.5**2 )\n",
    "\n",
    "def interaction(arr):\n",
    "    result = sp.signal.convolve2d(arr, conv, mode='same')\n",
    "\n",
    "    result = result * arr\n",
    "    return -1 * result.sum()\n",
    "\n",
    "def gen_g(arr, prob=0.01):\n",
    "    M, N = arr.shape\n",
    "    def g():\n",
    "        '''Random step vector.'''\n",
    "        step = np.random.rand(M, N)\n",
    "        \n",
    "        step = np.floor(step + prob)\n",
    "        \n",
    "        step = -2 * step + 1\n",
    "        return step\n",
    "    return g\n",
    "\n",
    "def metropolis_step(x, g, f):\n",
    "    '''Perform one full iteration and return new position.'''\n",
    "    x_proposed = x * g()\n",
    "    \n",
    "    dE = interaction(x_proposed) - interaction(x)\n",
    "    if dE < 0:\n",
    "        #print('1', end='')\n",
    "        return x_proposed\n",
    "    \n",
    "    a = f(dE)\n",
    "    \n",
    "    if np.random.choice([True, False], p=[a, 1-a]):\n",
    "        x_new = x_proposed\n",
    "        #print('1', end='')\n",
    "    else:\n",
    "        x_new = x\n",
    "        #print('0', end='')\n",
    "\n",
    "    return x_new\n",
    "\n",
    "metropolis_iterate = gen_metropolis(metropolis_step)"
   ]
  },
  {
   "cell_type": "markdown",
   "id": "ee000741-3df3-4756-98a4-91bfca96233f",
   "metadata": {
    "tags": []
   },
   "source": [
    "### Test"
   ]
  },
  {
   "cell_type": "code",
   "execution_count": null,
   "id": "5118fd1c-f12b-41e2-bb64-cefdaf884680",
   "metadata": {},
   "outputs": [],
   "source": [
    "M = N = 40\n",
    "arr = np.random.rand(M, N)\n",
    "arr = 2 * np.floor(2 * arr) - 1\n",
    "\n",
    "fig, axes = pp.subplots(1,2)\n",
    "axes[0].imshow(arr)\n",
    "ax = axes[1]\n",
    "im = ax.imshow(arr)"
   ]
  },
  {
   "cell_type": "code",
   "execution_count": null,
   "id": "971a18e4-105a-49a2-97a3-b3147f7aee10",
   "metadata": {},
   "outputs": [],
   "source": [
    "g = gen_g(arr, prob=0.005)\n",
    "prob = gen_prob(beta=4)\n",
    "\n",
    "metarr = metropolis_iterate(arr,  1000, g, prob)\n",
    "for newarr in metarr:\n",
    "    im.set_data(newarr)\n",
    "    fig.canvas.draw()"
   ]
  },
  {
   "cell_type": "markdown",
   "id": "58544a7d-f28a-4158-a6e3-105dc44bd009",
   "metadata": {
    "tags": []
   },
   "source": [
    "## All sites, individual energy contribution only"
   ]
  },
  {
   "cell_type": "markdown",
   "id": "da374150-fee6-47a9-84ff-d4b9e39ae878",
   "metadata": {
    "tags": []
   },
   "source": [
    "### Functions"
   ]
  },
  {
   "cell_type": "code",
   "execution_count": null,
   "id": "6ebeac87-fb33-4e9e-bf1a-2ecaccdff843",
   "metadata": {},
   "outputs": [],
   "source": [
    "X, Y = np.mgrid[-5:6, -5:6]\n",
    "\n",
    "conv = np.where(((X == Y) & (X == 0)), 0, np.exp(-(X**2 + Y**2) / 2.5**2 ))\n",
    "\n",
    "def interaction(arr):\n",
    "    '''\n",
    "    Returns array of energies for each site.\n",
    "    Negative values are favourable.\n",
    "    '''\n",
    "    \n",
    "    result = sp.signal.convolve2d(arr, conv, mode='same')\n",
    "\n",
    "    result = result * arr\n",
    "    return -1 * result\n",
    "\n",
    "\n",
    "\n",
    "def metropolis_step(x, f):\n",
    "    '''Perform one full iteration and return new position.'''\n",
    "    M, N = x.shape\n",
    "    \n",
    "    dE = -1 * interaction(x) # energies of flipping\n",
    "    \n",
    "    prob = f(dE) # probabilities of accepting\n",
    "    \n",
    "    a = np.random.random((M, N))\n",
    "    \n",
    "    return np.where(a < prob, -x, x)\n",
    "    \n",
    "    \n",
    "metropolis_iterate = gen_metropolis(metropolis_step)   "
   ]
  },
  {
   "cell_type": "markdown",
   "id": "5b3c91e1-6339-41ad-bea7-dac0baf2ed18",
   "metadata": {},
   "source": [
    "### Test"
   ]
  },
  {
   "cell_type": "code",
   "execution_count": null,
   "id": "70a9ae4f-3ac5-4959-bbb9-8ddef687049b",
   "metadata": {},
   "outputs": [],
   "source": [
    "M = N = 500\n",
    "arr = np.random.rand(M, N)\n",
    "arr = 2 * np.floor(2 * arr) - 1\n",
    "\n",
    "fig, axes = pp.subplots(1,2)\n",
    "fig.set_size_inches(9,5)\n",
    "fig.tight_layout()\n",
    "\n",
    "axes[0].imshow(arr)\n",
    "ax = axes[1]\n",
    "im = ax.imshow(arr)\n",
    "print(arr.sum())"
   ]
  },
  {
   "cell_type": "code",
   "execution_count": null,
   "id": "f9fce276-6805-4510-833e-cb3ea3c42966",
   "metadata": {},
   "outputs": [],
   "source": [
    "prob = gen_prob(beta=0.2)\n",
    "metarr = metropolis_iterate(arr,  200, prob)\n",
    "for newarr in metarr:\n",
    "    im.set_data(newarr)\n",
    "    #time.sleep(0.5)\n",
    "    fig.canvas.draw()"
   ]
  }
 ],
 "metadata": {
  "kernelspec": {
   "display_name": "Python 3 (ipykernel)",
   "language": "python",
   "name": "python3"
  },
  "language_info": {
   "codemirror_mode": {
    "name": "ipython",
    "version": 3
   },
   "file_extension": ".py",
   "mimetype": "text/x-python",
   "name": "python",
   "nbconvert_exporter": "python",
   "pygments_lexer": "ipython3",
   "version": "3.11.0"
  }
 },
 "nbformat": 4,
 "nbformat_minor": 5
}
