{
 "cells": [
  {
   "cell_type": "code",
   "execution_count": null,
   "id": "0eaf31cc-e951-41b7-ae43-5955af703f29",
   "metadata": {},
   "outputs": [],
   "source": [
    "%matplotlib ipympl\n",
    "import matplotlib.pyplot as pp\n",
    "import pandas as pd\n",
    "import numpy as np\n",
    "import scipy as sp\n",
    "import py3Dmol as p3m"
   ]
  },
  {
   "cell_type": "code",
   "execution_count": null,
   "id": "4885cde3-43f0-4b19-a73f-ed2c14a1ced4",
   "metadata": {},
   "outputs": [],
   "source": [
    "pp.plot(range(10))"
   ]
  },
  {
   "cell_type": "code",
   "execution_count": null,
   "id": "604f9d8b-ccde-443f-ba9e-e7f22c6e3253",
   "metadata": {},
   "outputs": [],
   "source": [
    "p = p3m.view(query='mmtf:1ycr')\n",
    "p.setStyle({'cartoon': {'color':'spectrum'}})\n",
    "p"
   ]
  },
  {
   "cell_type": "code",
   "execution_count": null,
   "id": "13e5c4fb-c3a7-487f-bc55-6d9a12e64c59",
   "metadata": {},
   "outputs": [],
   "source": []
  }
 ],
 "metadata": {
  "kernelspec": {
   "display_name": "Python 3 (ipykernel)",
   "language": "python",
   "name": "python3"
  },
  "language_info": {
   "codemirror_mode": {
    "name": "ipython",
    "version": 3
   },
   "file_extension": ".py",
   "mimetype": "text/x-python",
   "name": "python",
   "nbconvert_exporter": "python",
   "pygments_lexer": "ipython3",
   "version": "3.11.0"
  }
 },
 "nbformat": 4,
 "nbformat_minor": 5
}
